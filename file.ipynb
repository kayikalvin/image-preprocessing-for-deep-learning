{
 "cells": [
  {
   "cell_type": "code",
   "execution_count": 3,
   "metadata": {},
   "outputs": [
    {
     "name": "stdout",
     "output_type": "stream",
     "text": [
      "--2024-11-01 07:29:39--  https://gratisography.com/wp-content/uploads/2024/10/gratisography-cool-cat-800x525.jpg\n",
      "Resolving gratisography.com (gratisography.com)... 104.21.62.193, 172.67.138.170, 2606:4700:3034::ac43:8aaa, ...\n",
      "Connecting to gratisography.com (gratisography.com)|104.21.62.193|:443... connected.\n",
      "HTTP request sent, awaiting response... 200 OK\n",
      "Length: unspecified [image/jpeg]\n",
      "Saving to: ‘gratisography-cool-cat-800x525.jpg’\n",
      "\n",
      "gratisography-cool-     [   <=>              ]  73.46K   180KB/s    in 0.4s    \n",
      "\n",
      "2024-11-01 07:29:45 (180 KB/s) - ‘gratisography-cool-cat-800x525.jpg’ saved [75219]\n",
      "\n"
     ]
    }
   ],
   "source": [
    "# we are using wget to download the mage directly from the internet\n",
    "!wget 'https://gratisography.com/wp-content/uploads/2024/10/gratisography-cool-cat-800x525.jpg'"
   ]
  },
  {
   "cell_type": "markdown",
   "metadata": {},
   "source": [
    "**libraries theat can be used in image processing:**\n",
    "1. matplotlib.image\n",
    "2. Pillow\n",
    "3. OpenCV(cv2)"
   ]
  },
  {
   "cell_type": "code",
   "execution_count": 4,
   "metadata": {},
   "outputs": [],
   "source": [
    "# importing the image module from matplotlib module \n",
    "import matplotlib.image as mpimg\n",
    "import matplotlib.pyplot as plt"
   ]
  },
  {
   "cell_type": "code",
   "execution_count": 5,
   "metadata": {},
   "outputs": [],
   "source": [
    "# loading an image though matplotlib.img module \n",
    "img = mpimg.imread('/home/kayi/Desktop/ML projects/Image processing for DL/cat.jpg')"
   ]
  },
  {
   "cell_type": "code",
   "execution_count": 6,
   "metadata": {},
   "outputs": [
    {
     "data": {
      "text/plain": [
       "numpy.ndarray"
      ]
     },
     "execution_count": 6,
     "metadata": {},
     "output_type": "execute_result"
    }
   ],
   "source": [
    "# checking how the image has been loaded(type of image)\n",
    "type(img)"
   ]
  },
  {
   "cell_type": "code",
   "execution_count": 7,
   "metadata": {},
   "outputs": [
    {
     "data": {
      "text/plain": [
       "(525, 800, 3)"
      ]
     },
     "execution_count": 7,
     "metadata": {},
     "output_type": "execute_result"
    }
   ],
   "source": [
    "# we can also check the shape of the image \n",
    "img.shape\n",
    "# the first and second value represent the dimension and the third value represents the channel "
   ]
  },
  {
   "cell_type": "code",
   "execution_count": null,
   "metadata": {},
   "outputs": [],
   "source": []
  }
 ],
 "metadata": {
  "kernelspec": {
   "display_name": "tensor",
   "language": "python",
   "name": "python3"
  },
  "language_info": {
   "codemirror_mode": {
    "name": "ipython",
    "version": 3
   },
   "file_extension": ".py",
   "mimetype": "text/x-python",
   "name": "python",
   "nbconvert_exporter": "python",
   "pygments_lexer": "ipython3",
   "version": "3.12.7"
  }
 },
 "nbformat": 4,
 "nbformat_minor": 2
}
