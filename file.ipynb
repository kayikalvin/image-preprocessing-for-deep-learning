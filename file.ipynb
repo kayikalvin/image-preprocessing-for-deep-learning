{
 "cells": [
  {
   "cell_type": "code",
   "execution_count": 3,
   "metadata": {},
   "outputs": [
    {
     "name": "stdout",
     "output_type": "stream",
     "text": [
      "--2024-11-01 07:29:39--  https://gratisography.com/wp-content/uploads/2024/10/gratisography-cool-cat-800x525.jpg\n",
      "Resolving gratisography.com (gratisography.com)... 104.21.62.193, 172.67.138.170, 2606:4700:3034::ac43:8aaa, ...\n",
      "Connecting to gratisography.com (gratisography.com)|104.21.62.193|:443... connected.\n",
      "HTTP request sent, awaiting response... 200 OK\n",
      "Length: unspecified [image/jpeg]\n",
      "Saving to: ‘gratisography-cool-cat-800x525.jpg’\n",
      "\n",
      "gratisography-cool-     [   <=>              ]  73.46K   180KB/s    in 0.4s    \n",
      "\n",
      "2024-11-01 07:29:45 (180 KB/s) - ‘gratisography-cool-cat-800x525.jpg’ saved [75219]\n",
      "\n"
     ]
    }
   ],
   "source": [
    "# we are using wget to download the mage directly from the internet\n",
    "!wget 'https://gratisography.com/wp-content/uploads/2024/10/gratisography-cool-cat-800x525.jpg'"
   ]
  },
  {
   "cell_type": "markdown",
   "metadata": {},
   "source": [
    "**libraries theat can be used in image processing:**\n",
    "1. matplotlib.image\n",
    "2. Pillow\n",
    "3. OpenCV(cv2)"
   ]
  },
  {
   "cell_type": "code",
   "execution_count": 2,
   "metadata": {},
   "outputs": [],
   "source": [
    "# importing the image module from matplotlib module \n",
    "import matplotlib.image as mpimg\n",
    "import matplotlib.pyplot as plt"
   ]
  },
  {
   "cell_type": "code",
   "execution_count": 3,
   "metadata": {},
   "outputs": [],
   "source": [
    "# loading an image though matplotlib.img module \n",
    "img = mpimg.imread('/home/kayi/Desktop/ML projects/Image processing for DL/cat.jpg')"
   ]
  },
  {
   "cell_type": "code",
   "execution_count": 4,
   "metadata": {},
   "outputs": [
    {
     "data": {
      "text/plain": [
       "numpy.ndarray"
      ]
     },
     "execution_count": 4,
     "metadata": {},
     "output_type": "execute_result"
    }
   ],
   "source": [
    "# checking how the image has been loaded(type of image)\n",
    "type(img)"
   ]
  },
  {
   "cell_type": "code",
   "execution_count": 5,
   "metadata": {},
   "outputs": [
    {
     "data": {
      "text/plain": [
       "(525, 800, 3)"
      ]
     },
     "execution_count": 5,
     "metadata": {},
     "output_type": "execute_result"
    }
   ],
   "source": [
    "# we can also check the shape of the image \n",
    "img.shape\n",
    "# the first and second value represent the dimension and the third value represents the channel "
   ]
  },
  {
   "cell_type": "code",
   "execution_count": 6,
   "metadata": {},
   "outputs": [
    {
     "name": "stdout",
     "output_type": "stream",
     "text": [
      "[[[39 39 39]\n",
      "  [36 36 36]\n",
      "  [42 42 42]\n",
      "  ...\n",
      "  [ 3  3  3]\n",
      "  [ 4  4  4]\n",
      "  [ 6  6  6]]\n",
      "\n",
      " [[27 27 27]\n",
      "  [27 27 27]\n",
      "  [37 37 37]\n",
      "  ...\n",
      "  [ 4  4  4]\n",
      "  [ 5  5  5]\n",
      "  [ 7  7  7]]\n",
      "\n",
      " [[27 27 27]\n",
      "  [29 29 29]\n",
      "  [34 34 34]\n",
      "  ...\n",
      "  [ 5  5  5]\n",
      "  [ 6  6  6]\n",
      "  [ 7  7  7]]\n",
      "\n",
      " ...\n",
      "\n",
      " [[11 11 11]\n",
      "  [10 10 10]\n",
      "  [ 8  8  8]\n",
      "  ...\n",
      "  [ 6  6  6]\n",
      "  [ 7  7  7]\n",
      "  [ 7  7  7]]\n",
      "\n",
      " [[12 12 12]\n",
      "  [10 10 10]\n",
      "  [ 8  8  8]\n",
      "  ...\n",
      "  [ 6  6  6]\n",
      "  [ 6  6  6]\n",
      "  [ 7  7  7]]\n",
      "\n",
      " [[13 13 13]\n",
      "  [11 11 11]\n",
      "  [ 8  8  8]\n",
      "  ...\n",
      "  [ 6  6  6]\n",
      "  [ 6  6  6]\n",
      "  [ 6  6  6]]]\n"
     ]
    }
   ],
   "source": [
    "#how the image has been stored as a numpy array\n",
    "print(img)"
   ]
  },
  {
   "cell_type": "code",
   "execution_count": null,
   "metadata": {},
   "outputs": [],
   "source": []
  }
 ],
 "metadata": {
  "kernelspec": {
   "display_name": "tensor",
   "language": "python",
   "name": "python3"
  },
  "language_info": {
   "codemirror_mode": {
    "name": "ipython",
    "version": 3
   },
   "file_extension": ".py",
   "mimetype": "text/x-python",
   "name": "python",
   "nbconvert_exporter": "python",
   "pygments_lexer": "ipython3",
   "version": "3.12.7"
  }
 },
 "nbformat": 4,
 "nbformat_minor": 2
}
